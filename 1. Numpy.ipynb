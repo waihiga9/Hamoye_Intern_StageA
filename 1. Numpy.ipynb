{
 "cells": [
  {
   "cell_type": "markdown",
   "id": "dfbc6af8",
   "metadata": {},
   "source": [
    "# Numpy (numerical python)"
   ]
  },
  {
   "cell_type": "markdown",
   "id": "c5f64e24",
   "metadata": {},
   "source": [
    "NumPy is a library that has ndarray(array object in NumPy) as its basic data structure used to handle arrays and matrices. "
   ]
  },
  {
   "cell_type": "markdown",
   "id": "b0ed3024",
   "metadata": {},
   "source": [
    " In python there are list that can operate as numpy but list are slow in process therefore numpy helps in solving the problem since NumPy arrays are stored at one continuous place in memory unlike lists, so processes can access and manipulate them very efficiently."
   ]
  },
  {
   "cell_type": "code",
   "execution_count": 3,
   "id": "2726bf99",
   "metadata": {},
   "outputs": [
    {
     "name": "stdout",
     "output_type": "stream",
     "text": [
      "<class 'list'>\n"
     ]
    }
   ],
   "source": [
    "# convention for importing numpy\n",
    "import numpy as np #np is an alias used for refering numpy\n",
    "arr = [6,2,8,9,5,1]\n",
    "print(type(arr))"
   ]
  },
  {
   "cell_type": "markdown",
   "id": "b9077704",
   "metadata": {},
   "source": [
    "### Creating an array"
   ]
  },
  {
   "cell_type": "markdown",
   "id": "4457253f",
   "metadata": {},
   "source": [
    "We create a NumPy ndarray object using the array() fn"
   ]
  },
  {
   "cell_type": "code",
   "execution_count": 2,
   "id": "f179d66e",
   "metadata": {},
   "outputs": [
    {
     "name": "stdout",
     "output_type": "stream",
     "text": [
      "<class 'numpy.ndarray'>\n",
      "(6,)\n",
      "int32\n",
      "1\n"
     ]
    }
   ],
   "source": [
    "a = np.array(arr)\n",
    "print(type(a))\n",
    "print(a.shape)# a is a 1d array with 6 items\n",
    "print(a.dtype)\n",
    "print(a.ndim)# get the dimension of a with ndim"
   ]
  },
  {
   "cell_type": "code",
   "execution_count": 3,
   "id": "c94f5226",
   "metadata": {},
   "outputs": [
    {
     "name": "stdout",
     "output_type": "stream",
     "text": [
      "[[1 2 3]\n",
      " [4 5 6]]\n",
      "2\n",
      "(2, 3)\n"
     ]
    }
   ],
   "source": [
    "b = np.array([[1,2,3],[4,5,6]])\n",
    "print(b)\n",
    "print(b.ndim)\n",
    "print(b.shape)# b is a 2d array with 2 rows and 3 cols"
   ]
  },
  {
   "cell_type": "markdown",
   "id": "9d0f7fa6",
   "metadata": {},
   "source": [
    "One dimensional array, is an array that has 0-D arrays as its elements\n",
    "\n",
    "Two dimensional array, An array that has 1-D arrays as its elements\n",
    "\n",
    "Three dimensional array, is An array that has 2-D arrays as its elements\n",
    "\n",
    "There are many operations that takes place in numpy arrays which include\n",
    "\n",
    "1. numpy array indexing\n",
    "2. numpy array slicing\n",
    "3. numpy array shape\n",
    "4. numpy array reshape\n",
    "5. numpy array split\n",
    "6. numpy array join"
   ]
  },
  {
   "cell_type": "code",
   "execution_count": 4,
   "id": "d5be9636",
   "metadata": {},
   "outputs": [
    {
     "data": {
      "text/plain": [
       "['T',\n",
       " '__abs__',\n",
       " '__add__',\n",
       " '__and__',\n",
       " '__array__',\n",
       " '__array_finalize__',\n",
       " '__array_function__',\n",
       " '__array_interface__',\n",
       " '__array_prepare__',\n",
       " '__array_priority__',\n",
       " '__array_struct__',\n",
       " '__array_ufunc__',\n",
       " '__array_wrap__',\n",
       " '__bool__',\n",
       " '__class__',\n",
       " '__complex__',\n",
       " '__contains__',\n",
       " '__copy__',\n",
       " '__deepcopy__',\n",
       " '__delattr__',\n",
       " '__delitem__',\n",
       " '__dir__',\n",
       " '__divmod__',\n",
       " '__doc__',\n",
       " '__eq__',\n",
       " '__float__',\n",
       " '__floordiv__',\n",
       " '__format__',\n",
       " '__ge__',\n",
       " '__getattribute__',\n",
       " '__getitem__',\n",
       " '__gt__',\n",
       " '__hash__',\n",
       " '__iadd__',\n",
       " '__iand__',\n",
       " '__ifloordiv__',\n",
       " '__ilshift__',\n",
       " '__imatmul__',\n",
       " '__imod__',\n",
       " '__imul__',\n",
       " '__index__',\n",
       " '__init__',\n",
       " '__init_subclass__',\n",
       " '__int__',\n",
       " '__invert__',\n",
       " '__ior__',\n",
       " '__ipow__',\n",
       " '__irshift__',\n",
       " '__isub__',\n",
       " '__iter__',\n",
       " '__itruediv__',\n",
       " '__ixor__',\n",
       " '__le__',\n",
       " '__len__',\n",
       " '__lshift__',\n",
       " '__lt__',\n",
       " '__matmul__',\n",
       " '__mod__',\n",
       " '__mul__',\n",
       " '__ne__',\n",
       " '__neg__',\n",
       " '__new__',\n",
       " '__or__',\n",
       " '__pos__',\n",
       " '__pow__',\n",
       " '__radd__',\n",
       " '__rand__',\n",
       " '__rdivmod__',\n",
       " '__reduce__',\n",
       " '__reduce_ex__',\n",
       " '__repr__',\n",
       " '__rfloordiv__',\n",
       " '__rlshift__',\n",
       " '__rmatmul__',\n",
       " '__rmod__',\n",
       " '__rmul__',\n",
       " '__ror__',\n",
       " '__rpow__',\n",
       " '__rrshift__',\n",
       " '__rshift__',\n",
       " '__rsub__',\n",
       " '__rtruediv__',\n",
       " '__rxor__',\n",
       " '__setattr__',\n",
       " '__setitem__',\n",
       " '__setstate__',\n",
       " '__sizeof__',\n",
       " '__str__',\n",
       " '__sub__',\n",
       " '__subclasshook__',\n",
       " '__truediv__',\n",
       " '__xor__',\n",
       " 'all',\n",
       " 'any',\n",
       " 'argmax',\n",
       " 'argmin',\n",
       " 'argpartition',\n",
       " 'argsort',\n",
       " 'astype',\n",
       " 'base',\n",
       " 'byteswap',\n",
       " 'choose',\n",
       " 'clip',\n",
       " 'compress',\n",
       " 'conj',\n",
       " 'conjugate',\n",
       " 'copy',\n",
       " 'ctypes',\n",
       " 'cumprod',\n",
       " 'cumsum',\n",
       " 'data',\n",
       " 'diagonal',\n",
       " 'dot',\n",
       " 'dtype',\n",
       " 'dump',\n",
       " 'dumps',\n",
       " 'fill',\n",
       " 'flags',\n",
       " 'flat',\n",
       " 'flatten',\n",
       " 'getfield',\n",
       " 'imag',\n",
       " 'item',\n",
       " 'itemset',\n",
       " 'itemsize',\n",
       " 'max',\n",
       " 'mean',\n",
       " 'min',\n",
       " 'nbytes',\n",
       " 'ndim',\n",
       " 'newbyteorder',\n",
       " 'nonzero',\n",
       " 'partition',\n",
       " 'prod',\n",
       " 'ptp',\n",
       " 'put',\n",
       " 'ravel',\n",
       " 'real',\n",
       " 'repeat',\n",
       " 'reshape',\n",
       " 'resize',\n",
       " 'round',\n",
       " 'searchsorted',\n",
       " 'setfield',\n",
       " 'setflags',\n",
       " 'shape',\n",
       " 'size',\n",
       " 'sort',\n",
       " 'squeeze',\n",
       " 'std',\n",
       " 'strides',\n",
       " 'sum',\n",
       " 'swapaxes',\n",
       " 'take',\n",
       " 'tobytes',\n",
       " 'tofile',\n",
       " 'tolist',\n",
       " 'tostring',\n",
       " 'trace',\n",
       " 'transpose',\n",
       " 'var',\n",
       " 'view']"
      ]
     },
     "execution_count": 4,
     "metadata": {},
     "output_type": "execute_result"
    }
   ],
   "source": [
    "dir(b)"
   ]
  },
  {
   "cell_type": "markdown",
   "id": "8d4b6480",
   "metadata": {},
   "source": [
    "There are also some inbuilt fns that can be used to initialize numpy which include \n",
    "empty[]\n",
    "zeros[]\n",
    "ones[]\n",
    "full[]\n",
    "random.random[]"
   ]
  },
  {
   "cell_type": "code",
   "execution_count": 8,
   "id": "9e7d6074",
   "metadata": {},
   "outputs": [
    {
     "name": "stdout",
     "output_type": "stream",
     "text": [
      "[[0.74820711 0.93699275 0.24026288]\n",
      " [0.12671747 0.94380445 0.67429352]]\n",
      "[[0. 0. 0.]\n",
      " [0. 0. 0.]]\n",
      "[[1. 1. 1.]\n",
      " [1. 1. 1.]]\n",
      "[[1. 0. 0.]\n",
      " [0. 1. 0.]\n",
      " [0. 0. 1.]]\n"
     ]
    }
   ],
   "source": [
    "# a 2*3 array with random values\n",
    "print(np.random.random((2,3)))\n",
    "\n",
    "# a 2*3 array of zeros\n",
    "print(np.zeros((2,3)))\n",
    "\n",
    "# a 2*3 array of ones\n",
    "print(np.ones((2,3)))\n",
    "\n",
    "# a 3*3 identity matrix\n",
    "print(np.identity(3))"
   ]
  },
  {
   "cell_type": "markdown",
   "id": "0e9db646",
   "metadata": {},
   "source": [
    "### Intra-operability of Arrays and Scalars\n",
    "Vectorisation in numpy arrays allows for faster processing by eliminating for loops when dealing with arrays of equal shape. This allows for batch arithmetic operations on the arrays by applying the operator elementwise. Similarly, scalars are also propagated element-wise across an array. For arrays with different sizes, it is impossible to perform element-wise operations instead; numpy handles this by broadcasting provided the dimensions of the arrays are the same or, one of the dimensions of the array is 1"
   ]
  },
  {
   "cell_type": "code",
   "execution_count": 11,
   "id": "fa44387a",
   "metadata": {},
   "outputs": [
    {
     "name": "stdout",
     "output_type": "stream",
     "text": [
      "Addition: [[13. 13. 13.]\n",
      " [10. 10. 10.]]\n",
      "Multiplication: [[36. 40. 42.]\n",
      " [ 9. 16. 21.]]\n",
      "Division: [[1.25       1.         0.83333333]\n",
      " [0.55555556 0.625      0.71428571]]\n",
      "Sqr: [[81. 64. 49.]\n",
      " [ 1.  4.  9.]]\n"
     ]
    }
   ],
   "source": [
    "c = np.array([[9.0, 8.0, 7.0], [1.0, 2.0, 3.0]])\n",
    "\n",
    "d = np.array([[4.0, 5.0, 6.0], [9.0, 8.0, 7.0]])\n",
    "\n",
    "print('Addition:', c+d)\n",
    "print('Multiplication:', c*d)\n",
    "print('Division:', 5/d)\n",
    "print('Sqr:', c**2)"
   ]
  },
  {
   "cell_type": "markdown",
   "id": "49180857",
   "metadata": {},
   "source": [
    "### Indexing With Arrays & Using Arrays for Data Processing\n",
    "The elements in the example arrays above can be accessed by indexing like lists in Python such that"
   ]
  },
  {
   "cell_type": "code",
   "execution_count": 22,
   "id": "c016c53b",
   "metadata": {},
   "outputs": [
    {
     "name": "stdout",
     "output_type": "stream",
     "text": [
      "[6 2 8 9 5 1]\n",
      "[[1 2 3]\n",
      " [4 5 6]]\n",
      "[[9. 8. 7.]\n",
      " [1. 2. 3.]]\n"
     ]
    }
   ],
   "source": [
    "a[0] #= 6\n",
    "a[3] #= 9\n",
    "print(a)\n",
    "b[0, 0] #= 1\n",
    "b[1, 2] #= 6\n",
    "print(b)\n",
    "c[0, 1] #= 8\n",
    "print(c)"
   ]
  },
  {
   "cell_type": "markdown",
   "id": "b004f08a",
   "metadata": {},
   "source": [
    "Elements in arrays  can also be retrieved by slicing rows and columns or a combination of indexing and slicing"
   ]
  },
  {
   "cell_type": "code",
   "execution_count": 4,
   "id": "2829c038",
   "metadata": {
    "scrolled": true
   },
   "outputs": [
    {
     "name": "stdout",
     "output_type": "stream",
     "text": [
      "[[11 12]\n",
      " [14 15]\n",
      " [17 18]]\n"
     ]
    }
   ],
   "source": [
    "# print(d[0:2, :2]) #= array([9., 8.])\n",
    "e = np.array([[10, 11, 12], [13, 14, 15]\n",
    "             ,[16, 17, 18], [19, 20, 21]])\n",
    "\n",
    "# slicing\n",
    "print(e[:3, 1:])"
   ]
  },
  {
   "cell_type": "code",
   "execution_count": 13,
   "id": "523ac68a",
   "metadata": {},
   "outputs": [
    {
     "name": "stdout",
     "output_type": "stream",
     "text": [
      "[20 30 40]\n"
     ]
    }
   ],
   "source": [
    "y = np.array([10, 20, 30, 40, 50, 60])\n",
    "print(y[1:4])"
   ]
  },
  {
   "cell_type": "markdown",
   "id": "a22ea4bb",
   "metadata": {},
   "source": [
    "#### Note"
   ]
  },
  {
   "cell_type": "markdown",
   "id": "d7262c35",
   "metadata": {},
   "source": [
    "The result includes the start index, but excludes the end index"
   ]
  },
  {
   "cell_type": "code",
   "execution_count": 34,
   "id": "0570c3c9",
   "metadata": {},
   "outputs": [
    {
     "data": {
      "text/plain": [
       "(array([18, 11, 19, 15]),)"
      ]
     },
     "execution_count": 34,
     "metadata": {},
     "output_type": "execute_result"
    }
   ],
   "source": [
    "#advanced methods of indexing\n",
    "# integer indexing\n",
    "e[[2, 0, 3, 1], [2, 1, 0, 2]], "
   ]
  },
  {
   "cell_type": "code",
   "execution_count": 36,
   "id": "615707e9",
   "metadata": {},
   "outputs": [
    {
     "data": {
      "text/plain": [
       "array([16, 17, 18, 19, 20, 21])"
      ]
     },
     "execution_count": 36,
     "metadata": {},
     "output_type": "execute_result"
    }
   ],
   "source": [
    "#boolean indexing meeting a specified condition\n",
    "e[e>15]"
   ]
  },
  {
   "cell_type": "markdown",
   "id": "c36373b0",
   "metadata": {},
   "source": [
    "Numpy also has inbuilt mathematical functions like sum(), mean(), std(), corrcoef(), min() and others.\n",
    "\n",
    "Numpy arrays can be loaded from and saved to binary files with .npy as the extension using load() and save() respectively. This can also be done with text files with text files using loadtxt() and savetxt()."
   ]
  },
  {
   "cell_type": "markdown",
   "id": "aeba6575",
   "metadata": {},
   "source": [
    "### NumPy reshape"
   ]
  },
  {
   "cell_type": "markdown",
   "id": "728e42f6",
   "metadata": {},
   "source": [
    "Reshaping can be adding or removing number of elements in each dimension"
   ]
  },
  {
   "cell_type": "code",
   "execution_count": 14,
   "id": "264ab95d",
   "metadata": {},
   "outputs": [
    {
     "name": "stdout",
     "output_type": "stream",
     "text": [
      "[[ 2  4  6]\n",
      " [ 8 10 12]\n",
      " [14 16 18]\n",
      " [20 22 24]]\n"
     ]
    }
   ],
   "source": [
    "#reshaping from 1-D to 2-D\n",
    "z = np.array([2, 4, 6, 8, 10, 12, 14, 16, 18, 20, 22, 24])\n",
    "new_z = z.reshape(4, 3)\n",
    "print(new_z)"
   ]
  },
  {
   "cell_type": "code",
   "execution_count": 16,
   "id": "bab1a503",
   "metadata": {},
   "outputs": [
    {
     "name": "stdout",
     "output_type": "stream",
     "text": [
      "[[[ 2  4]\n",
      "  [ 6  8]\n",
      "  [10 12]]\n",
      "\n",
      " [[14 16]\n",
      "  [18 20]\n",
      "  [22 24]]]\n"
     ]
    }
   ],
   "source": [
    "# reshaping 1-D to 3-D\n",
    "new_zy = z.reshape(2, 3, 2)\n",
    "print(new_zy)"
   ]
  },
  {
   "cell_type": "markdown",
   "id": "b510a0dc",
   "metadata": {},
   "source": [
    "### NumPy joining array"
   ]
  },
  {
   "cell_type": "code",
   "execution_count": 21,
   "id": "9bcb654e",
   "metadata": {},
   "outputs": [
    {
     "name": "stdout",
     "output_type": "stream",
     "text": [
      "[10 20 30 40 50 60]\n"
     ]
    }
   ],
   "source": [
    "x = np.array([10, 20, 30])\n",
    "y = np.array([40, 50, 60])\n",
    "\n",
    "arr1 = np.concatenate((x, y))\n",
    "print(arr1)"
   ]
  },
  {
   "cell_type": "markdown",
   "id": "4c53ff14",
   "metadata": {},
   "source": [
    "we can join array using slack fns such as vstack which stacks along the column."
   ]
  },
  {
   "cell_type": "code",
   "execution_count": 22,
   "id": "c0388de6",
   "metadata": {},
   "outputs": [
    {
     "name": "stdout",
     "output_type": "stream",
     "text": [
      "[[10 20 30]\n",
      " [40 50 60]]\n"
     ]
    }
   ],
   "source": [
    "x = np.array([10, 20, 30])\n",
    "y = np.array([40, 50, 60])\n",
    "\n",
    "arr2 = np.vstack((x, y))\n",
    "print(arr2)"
   ]
  },
  {
   "cell_type": "markdown",
   "id": "42325620",
   "metadata": {},
   "source": [
    "### NumPy splitting array"
   ]
  },
  {
   "cell_type": "code",
   "execution_count": 23,
   "id": "ba0a36b6",
   "metadata": {},
   "outputs": [
    {
     "name": "stdout",
     "output_type": "stream",
     "text": [
      "[array([2, 4, 6, 8]), array([10, 12, 14, 16]), array([18, 20, 22, 24])]\n"
     ]
    }
   ],
   "source": [
    "#use array_split() fn argument=(array to be split, the number of split)\n",
    "arr3 = np.array_split(z, 3)\n",
    "print(arr3)"
   ]
  }
 ],
 "metadata": {
  "kernelspec": {
   "display_name": "Python 3",
   "language": "python",
   "name": "python3"
  },
  "language_info": {
   "codemirror_mode": {
    "name": "ipython",
    "version": 3
   },
   "file_extension": ".py",
   "mimetype": "text/x-python",
   "name": "python",
   "nbconvert_exporter": "python",
   "pygments_lexer": "ipython3",
   "version": "3.10.4 (tags/v3.10.4:9d38120, Mar 23 2022, 23:13:41) [MSC v.1929 64 bit (AMD64)]"
  },
  "vscode": {
   "interpreter": {
    "hash": "26de051ba29f2982a8de78e945f0abaf191376122a1563185a90213a26c5da77"
   }
  }
 },
 "nbformat": 4,
 "nbformat_minor": 5
}
